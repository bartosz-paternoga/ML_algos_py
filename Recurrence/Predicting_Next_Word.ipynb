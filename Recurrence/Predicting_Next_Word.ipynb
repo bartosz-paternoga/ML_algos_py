{
  "nbformat": 4,
  "nbformat_minor": 0,
  "metadata": {
    "colab": {
      "name": "Untitled11.ipynb",
      "version": "0.3.2",
      "provenance": [],
      "collapsed_sections": []
    },
    "kernelspec": {
      "name": "python3",
      "display_name": "Python 3"
    },
    "accelerator": "TPU"
  },
  "cells": [
    {
      "metadata": {
        "id": "QVdzvywDNJCH",
        "colab_type": "code",
        "outputId": "c41f8a8c-ade3-44c2-87b7-118cfbfd6ccc",
        "colab": {
          "base_uri": "https://localhost:8080/",
          "height": 34
        }
      },
      "cell_type": "code",
      "source": [
        "from google.colab import drive\n",
        "drive.mount('/content/gdrive')"
      ],
      "execution_count": 12,
      "outputs": [
        {
          "output_type": "stream",
          "text": [
            "Drive already mounted at /content/gdrive; to attempt to forcibly remount, call drive.mount(\"/content/gdrive\", force_remount=True).\n"
          ],
          "name": "stdout"
        }
      ]
    },
    {
      "metadata": {
        "id": "beSwwZh-NSY8",
        "colab_type": "code",
        "colab": {}
      },
      "cell_type": "code",
      "source": [
        "# Download reviews.txt and labels.txt from here: https://github.com/udacity/deep-learning/tree/master/sentiment-network\n",
        "\n",
        "def pretty_print_review_and_label(i):\n",
        "   print(labels[i] + \"\\t:\\t\" + reviews[i][:80] + \"...\")\n",
        "\n",
        "g = open('gdrive/My Drive/Grokking/reviews.txt','r') # What we know!\n",
        "reviews = list(map(lambda x:x[:-1],g.readlines()))\n",
        "g.close()\n",
        "\n",
        "g = open('gdrive/My Drive/Grokking/labels.txt','r') # What we WANT to know!\n",
        "labels = list(map(lambda x:x[:-1].upper(),g.readlines()))\n",
        "g.close()\n",
        "\n",
        "\n",
        "# Preprocess dataset:\n",
        "\n",
        "import sys\n",
        "\n",
        "f = open('gdrive/My Drive/Grokking/reviews.txt')\n",
        "raw_reviews = f.readlines()\n",
        "f.close()\n",
        "\n",
        "f = open('gdrive/My Drive/Grokking/labels.txt')\n",
        "raw_labels = f.readlines()\n",
        "f.close()\n",
        "\n",
        "tokens = list(map(lambda x:set(x.split(\" \")),raw_reviews))\n",
        "\n",
        "vocab = set()\n",
        "for sent in tokens:\n",
        "    for word in sent:\n",
        "        if(len(word)>0):\n",
        "            vocab.add(word)\n",
        "vocab = list(vocab)\n",
        "\n",
        "word2index = {}\n",
        "for i,word in enumerate(vocab):\n",
        "    word2index[word]=i\n",
        "\n",
        "input_dataset = list()\n",
        "for sent in tokens:\n",
        "    sent_indices = list()\n",
        "    for word in sent:\n",
        "        try:\n",
        "            sent_indices.append(word2index[word])\n",
        "        except:\n",
        "            \"\"\n",
        "    input_dataset.append(list(set(sent_indices)))\n",
        "\n",
        "target_dataset = list()\n",
        "for label in raw_labels:\n",
        "    if label == 'positive\\n':\n",
        "        target_dataset.append(1)\n",
        "    else:\n",
        "        target_dataset.append(0)"
      ],
      "execution_count": 0,
      "outputs": []
    },
    {
      "metadata": {
        "id": "FV04-6JWOZHK",
        "colab_type": "code",
        "outputId": "b0c41500-4147-4543-904e-5b2eb39d68cf",
        "colab": {
          "base_uri": "https://localhost:8080/",
          "height": 54
        }
      },
      "cell_type": "code",
      "source": [
        "print(len(raw_reviews),raw_reviews[:2])"
      ],
      "execution_count": 34,
      "outputs": [
        {
          "output_type": "stream",
          "text": [
            "25000 ['bromwell high is a cartoon comedy . it ran at the same time as some other programs about school life  such as  teachers  . my   years in the teaching profession lead me to believe that bromwell high  s satire is much closer to reality than is  teachers  . the scramble to survive financially  the insightful students who can see right through their pathetic teachers  pomp  the pettiness of the whole situation  all remind me of the schools i knew and their students . when i saw the episode in which a student repeatedly tried to burn down the school  i immediately recalled . . . . . . . . . at . . . . . . . . . . high . a classic line inspector i  m here to sack one of your teachers . student welcome to bromwell high . i expect that many adults of my age think that bromwell high is far fetched . what a pity that it isn  t   \\n', 'story of a man who has unnatural feelings for a pig . starts out with a opening scene that is a terrific example of absurd comedy . a formal orchestra audience is turned into an insane  violent mob by the crazy chantings of it  s singers . unfortunately it stays absurd the whole time with no general narrative eventually making it just too off putting . even those from the era should be turned off . the cryptic dialogue would make shakespeare seem easy to a third grader . on a technical level it  s better than you might think with some good cinematography by future great vilmos zsigmond . future stars sally kirkland and frederic forrest can be seen briefly .  \\n']\n"
          ],
          "name": "stdout"
        }
      ]
    },
    {
      "metadata": {
        "id": "-QtCcDYdOa6t",
        "colab_type": "code",
        "outputId": "94d1a952-36f9-467d-b626-19595ea49221",
        "colab": {
          "base_uri": "https://localhost:8080/",
          "height": 54
        }
      },
      "cell_type": "code",
      "source": [
        "print(\"tokens len\", len(tokens),tokens[0])"
      ],
      "execution_count": 0,
      "outputs": [
        {
          "output_type": "stream",
          "text": [
            "tokens len 25000 {'', 'that', 'is', 's', 'to', 'teaching', 'sack', '\\n', 'their', 'which', 'pity', 'classic', 'students', 'see', 'profession', 'such', 'when', 'teachers', 'expect', 'it', 'at', 'cartoon', 'a', 'schools', 'line', 'your', 'one', 'immediately', 'what', 'bromwell', 'life', 'my', 'of', 'survive', 'closer', 'who', 'many', 'tried', 'programs', 'can', 'age', 'lead', 'through', 'repeatedly', 'financially', 'all', 'pomp', 'situation', 'pettiness', 't', 'pathetic', 'same', 'high', 'other', 'than', 'isn', 'much', 'reality', 'adults', 'me', 'and', 'years', 'episode', 'inspector', 'far', 'whole', 'believe', 'right', 'scramble', 'about', 'fetched', 'i', 'here', 'in', 'm', 'burn', 'insightful', 'some', 'student', 'welcome', 'recalled', 'school', 'as', 'time', 'ran', '.', 'think', 'comedy', 'saw', 'the', 'satire', 'remind', 'down', 'knew'}\n"
          ],
          "name": "stdout"
        }
      ]
    },
    {
      "metadata": {
        "id": "41UtBwBmOhLL",
        "colab_type": "code",
        "outputId": "38cce9d1-707d-43f6-f39d-a1bdec82dba0",
        "colab": {
          "base_uri": "https://localhost:8080/",
          "height": 50
        }
      },
      "cell_type": "code",
      "source": [
        "print(\"len(vocab)\", len(vocab),\"\\n\",vocab[:10])"
      ],
      "execution_count": 0,
      "outputs": [
        {
          "output_type": "stream",
          "text": [
            "len(vocab) 74074 \n",
            " ['reimagined', 'milner', 'conchatta', 'signboard', 'worn', 'divergence', 'rocket', 'disloyal', 'degenerative', 'amend']\n"
          ],
          "name": "stdout"
        }
      ]
    },
    {
      "metadata": {
        "id": "MOXcOtKoOpD0",
        "colab_type": "code",
        "outputId": "a6cd994a-45ec-4919-f82f-68b6af4a7e45",
        "colab": {
          "base_uri": "https://localhost:8080/",
          "height": 54
        }
      },
      "cell_type": "code",
      "source": [
        "print(len(input_dataset),input_dataset[0:2])"
      ],
      "execution_count": 0,
      "outputs": [
        {
          "output_type": "stream",
          "text": [
            "25000 [[49154, 52742, 70675, 15382, 41000, 53809, 53297, 4149, 71745, 28737, 1601, 73284, 2118, 11334, 58440, 64590, 33360, 18515, 30808, 47199, 26219, 73333, 54904, 13945, 21129, 26762, 3210, 19095, 47257, 25242, 66204, 56483, 6824, 22187, 12465, 28858, 7869, 59585, 9414, 16593, 46294, 62678, 72407, 67286, 5850, 24799, 63717, 15612, 20224, 53003, 15634, 56082, 20754, 25878, 58648, 42270, 19746, 16706, 51529, 40782, 63320, 57689, 46428, 25440, 57718, 12665, 11647, 61312, 54152, 19859, 63898, 66475, 22445, 51122, 21428, 71608, 33722, 62395, 17859, 1988, 72648, 32207, 24015, 41940, 8149, 45013, 60891, 57307, 44005, 2545, 22514, 60412, 5118], [51712, 49154, 54275, 2057, 26122, 4118, 16918, 6177, 59938, 34343, 41000, 55358, 7747, 11334, 64072, 58440, 70734, 18515, 6231, 57950, 35429, 12396, 23160, 30329, 67706, 21129, 3210, 62606, 16018, 25242, 65188, 36019, 64185, 7869, 41150, 57022, 59585, 73417, 68306, 9939, 30933, 46294, 5850, 43228, 16606, 35046, 37102, 1774, 12529, 51954, 39668, 36091, 7423, 35085, 27406, 56082, 25878, 63777, 37673, 71471, 36144, 16706, 26435, 67907, 55113, 72523, 56147, 72542, 32612, 61297, 4465, 31090, 12665, 11647, 73091, 55688, 54152, 56205, 53134, 8100, 4517, 31667, 32694, 11702, 27578, 38348, 39889, 41940, 981, 19416, 12259, 54270]]\n"
          ],
          "name": "stdout"
        }
      ]
    },
    {
      "metadata": {
        "id": "mdaCQlJxQHuw",
        "colab_type": "code",
        "colab": {}
      },
      "cell_type": "code",
      "source": [
        "import sys,random,math\n",
        "from collections import Counter\n",
        "import numpy as np\n",
        "\n",
        "hidden_size,window,negative = (50,2,5)\n",
        "\n",
        "weights_0_1 = (np.random.rand(len(vocab),hidden_size) - 0.5) * 0.2  #shape: (74075, 50)\n",
        "weights_1_2 = np.random.rand(len(vocab),hidden_size)*0              #shape: (74075, 50)"
      ],
      "execution_count": 0,
      "outputs": []
    },
    {
      "metadata": {
        "id": "GxWWSO5FO8-K",
        "colab_type": "code",
        "outputId": "1ceaa4e2-c010-4824-c202-90bb8cbc4430",
        "colab": {
          "base_uri": "https://localhost:8080/",
          "height": 67
        }
      },
      "cell_type": "code",
      "source": [
        "import numpy as np\n",
        "norms = np.sum(weights_0_1 * weights_0_1,axis=1)                    #norms.shape (74074,)\n",
        "norms.resize(norms.shape[0],1)                                      #norms.shape (74074,1)\n",
        "normed_weights = weights_0_1 * norms                                #normed_weights.shape (74074, 50)\n",
        "\n",
        "def make_sent_vect(words):\n",
        "    indices = list(map(lambda x:word2index[x],filter(lambda x:x in word2index,words)))  #word2index len: 74074, eg -> word2index['cat']:63378\n",
        "                                                                                        #indices[:5] -> [24845, 68066, 23325, 47974, 69814]\n",
        "    return np.mean(normed_weights[indices],axis=0)                  #shape: (50,)\n",
        "\n",
        "reviews2vectors = list()\n",
        "for review in tokens: # tokenized reviews\n",
        "    reviews2vectors.append(make_sent_vect(review))\n",
        "reviews2vectors = np.array(reviews2vectors)                         #reviews2vectors.shape: (25000, 50)\n",
        "\n",
        "def most_similar_reviews(review):\n",
        "    v = make_sent_vect(review)                                      #v.shape: (50,)\n",
        "    scores = Counter()\n",
        "    for i,val in enumerate(reviews2vectors.dot(v)):                 #reviews2vectors.dot(v).shape: (25000,)\n",
        "        scores[i] = val\n",
        "    most_similar = list()\n",
        "    \n",
        "    for idx,score in scores.most_common(3):\n",
        "        most_similar.append(raw_reviews[idx][0:40])\n",
        "    return most_similar\n",
        "\n",
        "most_similar_reviews(['boring','awful'])"
      ],
      "execution_count": 60,
      "outputs": [
        {
          "output_type": "execute_result",
          "data": {
            "text/plain": [
              "['as i saw the movie i was really shocked ',\n",
              " 'an annoying experience . improvised dial',\n",
              " 'this is waaaaay to much . . so frustrati']"
            ]
          },
          "metadata": {
            "tags": []
          },
          "execution_count": 60
        }
      ]
    }
  ]
}