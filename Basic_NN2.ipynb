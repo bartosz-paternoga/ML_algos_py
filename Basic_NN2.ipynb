{
  "nbformat": 4,
  "nbformat_minor": 0,
  "metadata": {
    "colab": {
      "name": "Untitled4.ipynb",
      "version": "0.3.2",
      "provenance": [],
      "collapsed_sections": []
    },
    "kernelspec": {
      "name": "python3",
      "display_name": "Python 3"
    }
  },
  "cells": [
    {
      "metadata": {
        "id": "SsiizNW-Ixs3",
        "colab_type": "code",
        "colab": {}
      },
      "cell_type": "code",
      "source": [
        "import numpy as np\n",
        "\n",
        "def nonlin(x,deriv=False):\n",
        "\tif(deriv==True):\n",
        "\t    return x*(1-x)\n",
        "\n",
        "\treturn 1/(1+np.exp(-x))\n",
        "    \n",
        "X = np.array([[0,0,1],\n",
        "            [0,1,1],\n",
        "            [1,0,1],\n",
        "            [1,1,1]])\n",
        "                \n",
        "y = np.array([[0],\n",
        "\t\t\t[1],\n",
        "\t\t\t[1],\n",
        "\t\t\t[0]])\n",
        "\n",
        "np.random.seed(1)"
      ],
      "execution_count": 0,
      "outputs": []
    },
    {
      "metadata": {
        "id": "U38T1209I90G",
        "colab_type": "code",
        "colab": {
          "base_uri": "https://localhost:8080/",
          "height": 168
        },
        "outputId": "f224e29f-6015-4fad-b518-ad32187920a7"
      },
      "cell_type": "code",
      "source": [
        "# randomly initialize our weights with mean 0\n",
        "syn0 = 2*np.random.random((3,4)) - 1\n",
        "syn1 = 2*np.random.random((4,1)) - 1\n",
        "print (\"initialized weights -> syn0:\")\n",
        "print (syn0)\n",
        "print (\"initialized weights -> syn1:\")\n",
        "print (syn1)"
      ],
      "execution_count": 3,
      "outputs": [
        {
          "output_type": "stream",
          "text": [
            "initialized weights -> syn0:\n",
            "[[-0.1653904   0.11737966 -0.71922612 -0.60379702]\n",
            " [ 0.60148914  0.93652315 -0.37315164  0.38464523]\n",
            " [ 0.7527783   0.78921333 -0.82991158 -0.92189043]]\n",
            "initialized weights -> syn1:\n",
            "[[-0.66033916]\n",
            " [ 0.75628501]\n",
            " [-0.80330633]\n",
            " [-0.15778475]]\n"
          ],
          "name": "stdout"
        }
      ]
    },
    {
      "metadata": {
        "id": "ZMnssKhPJkBb",
        "colab_type": "code",
        "colab": {
          "base_uri": "https://localhost:8080/",
          "height": 722
        },
        "outputId": "3daa3d29-a1f4-4da3-c196-061996c76b25"
      },
      "cell_type": "code",
      "source": [
        "for j in range(60000):\n",
        "\n",
        "\t# Feed forward through layers 0, 1, and 2\n",
        "    l0 = X\n",
        "    l1 = nonlin(np.dot(l0,syn0))\n",
        "    l2 = nonlin(np.dot(l1,syn1))\n",
        "\n",
        "    # how much did we miss the target value?\n",
        "    l2_error = y - l2\n",
        "    \n",
        "    if (j% 10000) == 0:\n",
        "        print(\"ITERATION:\", j)\n",
        "        print(\"l2_error:\")\n",
        "        print(l2_error)\n",
        "        print(\"Error:\" + str(np.mean(np.abs(l2_error))))\n",
        "        \n",
        "    # in what direction is the target value?\n",
        "    # were we really sure? if so, don't change too much.\n",
        "    l2_delta = l2_error*nonlin(l2,deriv=True)\n",
        "\n",
        "    # how much did each l1 value contribute to the l2 error (according to the weights)?\n",
        "    l1_error = l2_delta.dot(syn1.T)\n",
        "    \n",
        "    # in what direction is the target l1?\n",
        "    # were we really sure? if so, don't change too much.\n",
        "    l1_delta = l1_error * nonlin(l1,deriv=True)\n",
        "\n",
        "    syn1 += l1.T.dot(l2_delta)\n",
        "    syn0 += l0.T.dot(l1_delta)"
      ],
      "execution_count": 11,
      "outputs": [
        {
          "output_type": "stream",
          "text": [
            "ITERATION: 0\n",
            "l2_error:\n",
            "[[-0.00090556]\n",
            " [ 0.00241423]\n",
            " [ 0.00288122]\n",
            " [-0.00329236]]\n",
            "Error:0.00237334241680298\n",
            "ITERATION: 10000\n",
            "l2_error:\n",
            "[[-0.00087839]\n",
            " [ 0.00234875]\n",
            " [ 0.00280373]\n",
            " [-0.00320383]]\n",
            "Error:0.0023086737762318026\n",
            "ITERATION: 20000\n",
            "l2_error:\n",
            "[[-0.00085337]\n",
            " [ 0.00228829]\n",
            " [ 0.00273216]\n",
            " [-0.00312208]]\n",
            "Error:0.0022489753367699048\n",
            "ITERATION: 30000\n",
            "l2_error:\n",
            "[[-0.00083026]\n",
            " [ 0.00223224]\n",
            " [ 0.00266581]\n",
            " [-0.00304627]]\n",
            "Error:0.0021936428879338276\n",
            "ITERATION: 40000\n",
            "l2_error:\n",
            "[[-0.00080881]\n",
            " [ 0.0021801 ]\n",
            " [ 0.00260405]\n",
            " [-0.00297572]]\n",
            "Error:0.002142170176549496\n",
            "ITERATION: 50000\n",
            "l2_error:\n",
            "[[-0.00078884]\n",
            " [ 0.00213143]\n",
            " [ 0.00254639]\n",
            " [-0.00290986]]\n",
            "Error:0.00209412940396447\n"
          ],
          "name": "stdout"
        }
      ]
    }
  ]
}