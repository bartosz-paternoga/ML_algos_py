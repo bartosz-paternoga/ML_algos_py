{
  "nbformat": 4,
  "nbformat_minor": 0,
  "metadata": {
    "colab": {
      "name": "Untitled9.ipynb",
      "version": "0.3.2",
      "provenance": [],
      "collapsed_sections": []
    },
    "kernelspec": {
      "name": "python3",
      "display_name": "Python 3"
    },
    "accelerator": "TPU"
  },
  "cells": [
    {
      "metadata": {
        "id": "lZG1pfRsJraI",
        "colab_type": "code",
        "outputId": "5d7a7736-eccc-46f7-8165-681b87b41e2a",
        "colab": {
          "base_uri": "https://localhost:8080/",
          "height": 122
        }
      },
      "cell_type": "code",
      "source": [
        "from google.colab import drive\n",
        "drive.mount('/content/gdrive')"
      ],
      "execution_count": 1,
      "outputs": [
        {
          "output_type": "stream",
          "text": [
            "Go to this URL in a browser: https://accounts.google.com/o/oauth2/auth?client_id=947318989803-6bn6qk8qdgf4n4g3pfee6491hc0brc4i.apps.googleusercontent.com&redirect_uri=urn%3Aietf%3Awg%3Aoauth%3A2.0%3Aoob&scope=email%20https%3A%2F%2Fwww.googleapis.com%2Fauth%2Fdocs.test%20https%3A%2F%2Fwww.googleapis.com%2Fauth%2Fdrive%20https%3A%2F%2Fwww.googleapis.com%2Fauth%2Fdrive.photos.readonly%20https%3A%2F%2Fwww.googleapis.com%2Fauth%2Fpeopleapi.readonly&response_type=code\n",
            "\n",
            "Enter your authorization code:\n",
            "··········\n",
            "Mounted at /content/gdrive\n"
          ],
          "name": "stdout"
        }
      ]
    },
    {
      "metadata": {
        "id": "Kuqo4AyRQ68p",
        "colab_type": "code",
        "colab": {}
      },
      "cell_type": "code",
      "source": [
        "import sys\n",
        "f = open('gdrive/My Drive/Grokking/reviews.txt')\n",
        "raw_reviews = f.readlines()\n",
        "f.close()\n",
        "f = open('gdrive/My Drive/Grokking/labels.txt')\n",
        "raw_labels = f.readlines()\n",
        "f.close()\n",
        "\n",
        "tokens = list(map(lambda x:set(x.split(\" \")),raw_reviews))\n",
        "\n",
        "vocab = set()\n",
        "for sent in tokens:\n",
        "    for word in sent:\n",
        "        if(len(word)>0):\n",
        "            vocab.add(word)\n",
        "vocab = list(vocab)\n",
        "\n",
        "word2index = {}\n",
        "for i,word in enumerate(vocab):\n",
        "    word2index[word]=i\n",
        "    \n",
        "input_dataset = list()\n",
        "for sent in tokens:\n",
        "    sent_indices = list()\n",
        "    for word in sent:\n",
        "        try:\n",
        "            sent_indices.append(word2index[word])\n",
        "        except:\n",
        "            \"\"\n",
        "    input_dataset.append(list(set(sent_indices)))\n",
        "    \n",
        "target_dataset = list()\n",
        "for label in raw_labels:\n",
        "    if label == 'positive\\n':\n",
        "        target_dataset.append(1)\n",
        "    else:\n",
        "        target_dataset.append(0)"
      ],
      "execution_count": 0,
      "outputs": []
    },
    {
      "metadata": {
        "colab_type": "code",
        "outputId": "e85f5c3b-d31e-4fcc-c1e7-ca0286054914",
        "id": "WAKGk4byIptt",
        "colab": {
          "base_uri": "https://localhost:8080/",
          "height": 34
        }
      },
      "cell_type": "code",
      "source": [
        "print(len(raw_reviews))"
      ],
      "execution_count": 0,
      "outputs": [
        {
          "output_type": "stream",
          "text": [
            "25000\n"
          ],
          "name": "stdout"
        }
      ]
    },
    {
      "metadata": {
        "colab_type": "code",
        "outputId": "ecba6855-6e9e-4e34-9260-a4ba7b18a7c5",
        "id": "h4xM0yNFIovP",
        "colab": {
          "base_uri": "https://localhost:8080/",
          "height": 34
        }
      },
      "cell_type": "code",
      "source": [
        "print(len(raw_labels))"
      ],
      "execution_count": 0,
      "outputs": [
        {
          "output_type": "stream",
          "text": [
            "25000\n"
          ],
          "name": "stdout"
        }
      ]
    },
    {
      "metadata": {
        "colab_type": "code",
        "outputId": "afee476d-7367-4450-84a8-9a4613da3849",
        "id": "Gi1yFQAHInTq",
        "colab": {
          "base_uri": "https://localhost:8080/",
          "height": 54
        }
      },
      "cell_type": "code",
      "source": [
        "print(\"tokens len\", len(tokens),tokens[0])"
      ],
      "execution_count": 0,
      "outputs": [
        {
          "output_type": "stream",
          "text": [
            "tokens len 25000 {'', 'expect', 'comedy', 'isn', 'i', 'inspector', 'financially', 'think', 'ran', 'in', 'teaching', 'and', 'believe', 'to', 'at', 'remind', 'when', 'life', 't', 'other', 'what', 'that', 'high', 'fetched', 'schools', 'burn', 'situation', 'closer', 'tried', 'profession', 'welcome', 'scramble', 'reality', 'than', 'programs', 'immediately', 'same', 'is', 'far', 'me', 'age', 'students', 'repeatedly', 'my', 'cartoon', 'many', 'such', 'sack', 'as', 'classic', 'lead', 'here', 'their', 'pomp', 'your', 'right', 'pathetic', 'years', 'some', '\\n', 'pity', 'satire', 'bromwell', 'm', 'much', 's', 'pettiness', 'down', 'about', 'survive', 'time', 'see', 'adults', 'who', 'recalled', 'insightful', 'line', 'school', 'which', 'knew', 'all', 'saw', 'the', 'whole', 'of', 'one', '.', 'through', 'student', 'a', 'teachers', 'episode', 'can', 'it'}\n"
          ],
          "name": "stdout"
        }
      ]
    },
    {
      "metadata": {
        "id": "xWEyGdHYbeSD",
        "colab_type": "code",
        "outputId": "53f2182b-40dd-4a08-facb-9f78ebb55dc7",
        "colab": {
          "base_uri": "https://localhost:8080/",
          "height": 50
        }
      },
      "cell_type": "code",
      "source": [
        "print(\"len(vocab)\", len(vocab),\"\\n\",vocab[:10])"
      ],
      "execution_count": 0,
      "outputs": [
        {
          "output_type": "stream",
          "text": [
            "len(vocab) 74074 \n",
            " ['miser', 'mellifluous', 'challengers', 'opportunistic', 'melted', 'toenails', 'seaquest', 'supermarkets', 'phillips', 'uninspriring']\n"
          ],
          "name": "stdout"
        }
      ]
    },
    {
      "metadata": {
        "id": "bv3KguFBc76h",
        "colab_type": "code",
        "colab": {}
      },
      "cell_type": "code",
      "source": [
        "#print(word2index)"
      ],
      "execution_count": 0,
      "outputs": []
    },
    {
      "metadata": {
        "id": "5Bx9uUdQlFs3",
        "colab_type": "code",
        "outputId": "2d032529-5657-4394-bd79-0ce3b88420b7",
        "colab": {
          "base_uri": "https://localhost:8080/",
          "height": 54
        }
      },
      "cell_type": "code",
      "source": [
        "print(len(input_dataset),input_dataset[0:2])"
      ],
      "execution_count": 0,
      "outputs": [
        {
          "output_type": "stream",
          "text": [
            "25000 [[70658, 8713, 16406, 36388, 41514, 43056, 13369, 13882, 39488, 63555, 38467, 1091, 19014, 69193, 66124, 41554, 4692, 6256, 32370, 41082, 60026, 21127, 11402, 38541, 59551, 2724, 43176, 50856, 69290, 71851, 2224, 177, 65202, 9907, 6839, 70329, 66234, 50368, 64196, 53451, 72399, 29405, 15588, 53993, 44787, 63225, 48382, 68864, 41736, 27403, 33036, 20238, 49429, 30490, 42795, 8504, 64831, 72523, 30541, 40787, 40276, 3418, 16739, 29540, 28517, 38774, 15229, 61314, 52612, 71045, 31121, 5528, 70558, 4016, 63408, 947, 67520, 73666, 62406, 58825, 41423, 33234, 11221, 62422, 31707, 30181, 42470, 18922, 7664, 42995, 73205, 61944, 56318], [8713, 50186, 39440, 45588, 5655, 69145, 34330, 11805, 42528, 59937, 36901, 39973, 21029, 11817, 13369, 53820, 70722, 55895, 46695, 32370, 73855, 19593, 40074, 11402, 56971, 38541, 46739, 36503, 50856, 61611, 6832, 2739, 63156, 70329, 50368, 63171, 42184, 48334, 72399, 33999, 26318, 18642, 56025, 20698, 1755, 72925, 63225, 37117, 68864, 70915, 35591, 41736, 24855, 36122, 15132, 16670, 53056, 326, 30541, 60238, 23899, 28517, 54119, 39784, 67943, 48496, 38774, 21369, 30080, 71045, 43911, 32656, 52121, 2460, 57246, 70561, 22440, 14271, 67009, 36810, 44492, 41423, 16337, 60883, 5079, 6103, 46551, 30181, 49640, 73205, 24055, 3576]]\n"
          ],
          "name": "stdout"
        }
      ]
    },
    {
      "metadata": {
        "id": "QMjpP8nMpqRV",
        "colab_type": "code",
        "outputId": "8d747f91-f0d5-4924-eda2-f08c07268d63",
        "colab": {
          "base_uri": "https://localhost:8080/",
          "height": 34
        }
      },
      "cell_type": "code",
      "source": [
        "print(len(target_dataset),target_dataset[0:2])"
      ],
      "execution_count": 0,
      "outputs": [
        {
          "output_type": "stream",
          "text": [
            "25000 [1, 0]\n"
          ],
          "name": "stdout"
        }
      ]
    },
    {
      "metadata": {
        "id": "EOHfG4oMGmAX",
        "colab_type": "code",
        "outputId": "435096a0-e1f2-4ab4-99fa-93947b1d7d1c",
        "colab": {
          "base_uri": "https://localhost:8080/",
          "height": 68
        }
      },
      "cell_type": "code",
      "source": [
        "import numpy as np\n",
        "np.random.seed(1)\n",
        "def sigmoid(x):\n",
        "    return 1/(1 + np.exp(-x))\n",
        "alpha, iterations = (0.01, 2)\n",
        "hidden_size = 100\n",
        "weights_0_1 = 0.2*np.random.random((len(vocab),hidden_size)) - 0.1\n",
        "weights_1_2 = 0.2*np.random.random((hidden_size,1)) - 0.1\n",
        "\n",
        "correct,total = (0,0)\n",
        "for iter in range(iterations):\n",
        "    \n",
        "    for i in range(len(input_dataset)-1000):\n",
        "        x,y = (input_dataset[i],target_dataset[i])\n",
        "        layer_1 = sigmoid(np.sum(weights_0_1[x],axis=0))\n",
        "        layer_2 = sigmoid(np.dot(layer_1,weights_1_2))\n",
        "        \n",
        "        layer_2_delta = layer_2 - y\n",
        "        layer_1_delta = layer_2_delta.dot(weights_1_2.T)\n",
        "        \n",
        "        weights_0_1[x] -= layer_1_delta * alpha\n",
        "        weights_1_2 -= np.outer(layer_1,layer_2_delta) * alpha\n",
        "\n",
        "        if(np.abs(layer_2_delta) < 0.5):\n",
        "            correct += 1\n",
        "        total += 1\n",
        "        if(i % 10 == 9):\n",
        "            progress = str(i/float(len(input_dataset)))\n",
        "            sys.stdout.write('\\rIter:'+str(iter)\\\n",
        "                              +' Progress:'+progress[2:4]\\\n",
        "                              +'.'+progress[4:6]\\\n",
        "                              +'% Training Accuracy:'\\\n",
        "                              + str(correct/float(total)) + '%')\n",
        "    print()\n",
        "    \n",
        "    \n",
        "\n",
        "correct,total = (0,0)\n",
        "for i in range(len(input_dataset)-1000,len(input_dataset)):\n",
        "  \n",
        "    x = input_dataset[i]\n",
        "    y = target_dataset[i]\n",
        "\n",
        "    layer_1 = sigmoid(np.sum(weights_0_1[x],axis=0))\n",
        "    layer_2 = sigmoid(np.dot(layer_1,weights_1_2))\n",
        "\n",
        "    if(np.abs(layer_2 - y) < 0.5):\n",
        "        correct += 1\n",
        "    total += 1\n",
        "print(\"Test Accuracy:\" + str(correct / float(total)))\n",
        "\n",
        "       "
      ],
      "execution_count": 7,
      "outputs": [
        {
          "output_type": "stream",
          "text": [
            "Iter:0 Progress:95.99% Training Accuracy:0.8312916666666667%\n",
            "Iter:1 Progress:95.99% Training Accuracy:0.865625%\n",
            "Test Accuracy:0.846\n"
          ],
          "name": "stdout"
        }
      ]
    }
  ]
}