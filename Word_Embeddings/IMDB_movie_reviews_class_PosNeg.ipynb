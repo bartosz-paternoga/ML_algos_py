{
  "nbformat": 4,
  "nbformat_minor": 0,
  "metadata": {
    "colab": {
      "name": "Untitled9.ipynb",
      "version": "0.3.2",
      "provenance": [],
      "collapsed_sections": []
    },
    "kernelspec": {
      "name": "python3",
      "display_name": "Python 3"
    },
    "accelerator": "TPU"
  },
  "cells": [
    {
      "metadata": {
        "id": "lZG1pfRsJraI",
        "colab_type": "code",
        "outputId": "5d7a7736-eccc-46f7-8165-681b87b41e2a",
        "colab": {
          "base_uri": "https://localhost:8080/",
          "height": 122
        }
      },
      "cell_type": "code",
      "source": [
        "from google.colab import drive\n",
        "drive.mount('/content/gdrive')"
      ],
      "execution_count": 1,
      "outputs": [
        {
          "output_type": "stream",
          "text": [
            "Go to this URL in a browser: https://accounts.google.com/o/oauth2/auth?client_id=947318989803-6bn6qk8qdgf4n4g3pfee6491hc0brc4i.apps.googleusercontent.com&redirect_uri=urn%3Aietf%3Awg%3Aoauth%3A2.0%3Aoob&scope=email%20https%3A%2F%2Fwww.googleapis.com%2Fauth%2Fdocs.test%20https%3A%2F%2Fwww.googleapis.com%2Fauth%2Fdrive%20https%3A%2F%2Fwww.googleapis.com%2Fauth%2Fdrive.photos.readonly%20https%3A%2F%2Fwww.googleapis.com%2Fauth%2Fpeopleapi.readonly&response_type=code\n",
            "\n",
            "Enter your authorization code:\n",
            "··········\n",
            "Mounted at /content/gdrive\n"
          ],
          "name": "stdout"
        }
      ]
    },
    {
      "metadata": {
        "id": "Kuqo4AyRQ68p",
        "colab_type": "code",
        "colab": {}
      },
      "cell_type": "code",
      "source": [
        "import sys\n",
        "f = open('gdrive/My Drive/Grokking/reviews.txt')\n",
        "raw_reviews = f.readlines()\n",
        "f.close()\n",
        "f = open('gdrive/My Drive/Grokking/labels.txt')\n",
        "raw_labels = f.readlines()\n",
        "f.close()\n",
        "\n",
        "tokens = list(map(lambda x:set(x.split(\" \")),raw_reviews))\n",
        "\n",
        "vocab = set()\n",
        "for sent in tokens:\n",
        "    for word in sent:\n",
        "        if(len(word)>0):\n",
        "            vocab.add(word)\n",
        "vocab = list(vocab)\n",
        "\n",
        "word2index = {}\n",
        "for i,word in enumerate(vocab):\n",
        "    word2index[word]=i\n",
        "    \n",
        "input_dataset = list()\n",
        "for sent in tokens:\n",
        "    sent_indices = list()\n",
        "    for word in sent:\n",
        "        try:\n",
        "            sent_indices.append(word2index[word])\n",
        "        except:\n",
        "            \"\"\n",
        "    input_dataset.append(list(set(sent_indices)))\n",
        "    \n",
        "target_dataset = list()\n",
        "for label in raw_labels:\n",
        "    if label == 'positive\\n':\n",
        "        target_dataset.append(1)\n",
        "    else:\n",
        "        target_dataset.append(0)"
      ],
      "execution_count": 0,
      "outputs": []
    },
    {
      "metadata": {
        "colab_type": "code",
        "outputId": "e85f5c3b-d31e-4fcc-c1e7-ca0286054914",
        "id": "WAKGk4byIptt",
        "colab": {
          "base_uri": "https://localhost:8080/",
          "height": 34
        }
      },
      "cell_type": "code",
      "source": [
        "print(len(raw_reviews))"
      ],
      "execution_count": 0,
      "outputs": [
        {
          "output_type": "stream",
          "text": [
            "25000\n"
          ],
          "name": "stdout"
        }
      ]
    },
    {
      "metadata": {
        "colab_type": "code",
        "outputId": "ecba6855-6e9e-4e34-9260-a4ba7b18a7c5",
        "id": "h4xM0yNFIovP",
        "colab": {
          "base_uri": "https://localhost:8080/",
          "height": 34
        }
      },
      "cell_type": "code",
      "source": [
        "print(len(raw_labels))"
      ],
      "execution_count": 0,
      "outputs": [
        {
          "output_type": "stream",
          "text": [
            "25000\n"
          ],
          "name": "stdout"
        }
      ]
    },
    {
      "metadata": {
        "colab_type": "code",
        "outputId": "afee476d-7367-4450-84a8-9a4613da3849",
        "id": "Gi1yFQAHInTq",
        "colab": {
          "base_uri": "https://localhost:8080/",
          "height": 54
        }
      },
      "cell_type": "code",
      "source": [
        "print(\"tokens len\", len(tokens),tokens[0])"
      ],
      "execution_count": 0,
      "outputs": [
        {
          "output_type": "stream",
          "text": [
            "tokens len 25000 {'', 'expect', 'comedy', 'isn', 'i', 'inspector', 'financially', 'think', 'ran', 'in', 'teaching', 'and', 'believe', 'to', 'at', 'remind', 'when', 'life', 't', 'other', 'what', 'that', 'high', 'fetched', 'schools', 'burn', 'situation', 'closer', 'tried', 'profession', 'welcome', 'scramble', 'reality', 'than', 'programs', 'immediately', 'same', 'is', 'far', 'me', 'age', 'students', 'repeatedly', 'my', 'cartoon', 'many', 'such', 'sack', 'as', 'classic', 'lead', 'here', 'their', 'pomp', 'your', 'right', 'pathetic', 'years', 'some', '\\n', 'pity', 'satire', 'bromwell', 'm', 'much', 's', 'pettiness', 'down', 'about', 'survive', 'time', 'see', 'adults', 'who', 'recalled', 'insightful', 'line', 'school', 'which', 'knew', 'all', 'saw', 'the', 'whole', 'of', 'one', '.', 'through', 'student', 'a', 'teachers', 'episode', 'can', 'it'}\n"
          ],
          "name": "stdout"
        }
      ]
    },
    {
      "metadata": {
        "id": "xWEyGdHYbeSD",
        "colab_type": "code",
        "outputId": "53f2182b-40dd-4a08-facb-9f78ebb55dc7",
        "colab": {
          "base_uri": "https://localhost:8080/",
          "height": 50
        }
      },
      "cell_type": "code",
      "source": [
        "print(\"len(vocab)\", len(vocab),\"\\n\",vocab[:10])"
      ],
      "execution_count": 0,
      "outputs": [
        {
          "output_type": "stream",
          "text": [
            "len(vocab) 74074 \n",
            " ['miser', 'mellifluous', 'challengers', 'opportunistic', 'melted', 'toenails', 'seaquest', 'supermarkets', 'phillips', 'uninspriring']\n"
          ],
          "name": "stdout"
        }
      ]
    },
    {
      "metadata": {
        "id": "bv3KguFBc76h",
        "colab_type": "code",
        "colab": {}
      },
      "cell_type": "code",
      "source": [
        "#print(word2index)"
      ],
      "execution_count": 0,
      "outputs": []
    },
    {
      "metadata": {
        "id": "5Bx9uUdQlFs3",
        "colab_type": "code",
        "outputId": "2d032529-5657-4394-bd79-0ce3b88420b7",
        "colab": {
          "base_uri": "https://localhost:8080/",
          "height": 54
        }
      },
      "cell_type": "code",
      "source": [
        "print(len(input_dataset),input_dataset[0:2])"
      ],
      "execution_count": 0,
      "outputs": [
        {
          "output_type": "stream",
          "text": [
            "25000 [[70658, 8713, 16406, 36388, 41514, 43056, 13369, 13882, 39488, 63555, 38467, 1091, 19014, 69193, 66124, 41554, 4692, 6256, 32370, 41082, 60026, 21127, 11402, 38541, 59551, 2724, 43176, 50856, 69290, 71851, 2224, 177, 65202, 9907, 6839, 70329, 66234, 50368, 64196, 53451, 72399, 29405, 15588, 53993, 44787, 63225, 48382, 68864, 41736, 27403, 33036, 20238, 49429, 30490, 42795, 8504, 64831, 72523, 30541, 40787, 40276, 3418, 16739, 29540, 28517, 38774, 15229, 61314, 52612, 71045, 31121, 5528, 70558, 4016, 63408, 947, 67520, 73666, 62406, 58825, 41423, 33234, 11221, 62422, 31707, 30181, 42470, 18922, 7664, 42995, 73205, 61944, 56318], [8713, 50186, 39440, 45588, 5655, 69145, 34330, 11805, 42528, 59937, 36901, 39973, 21029, 11817, 13369, 53820, 70722, 55895, 46695, 32370, 73855, 19593, 40074, 11402, 56971, 38541, 46739, 36503, 50856, 61611, 6832, 2739, 63156, 70329, 50368, 63171, 42184, 48334, 72399, 33999, 26318, 18642, 56025, 20698, 1755, 72925, 63225, 37117, 68864, 70915, 35591, 41736, 24855, 36122, 15132, 16670, 53056, 326, 30541, 60238, 23899, 28517, 54119, 39784, 67943, 48496, 38774, 21369, 30080, 71045, 43911, 32656, 52121, 2460, 57246, 70561, 22440, 14271, 67009, 36810, 44492, 41423, 16337, 60883, 5079, 6103, 46551, 30181, 49640, 73205, 24055, 3576]]\n"
          ],
          "name": "stdout"
        }
      ]
    },
    {
      "metadata": {
        "id": "QMjpP8nMpqRV",
        "colab_type": "code",
        "outputId": "8d747f91-f0d5-4924-eda2-f08c07268d63",
        "colab": {
          "base_uri": "https://localhost:8080/",
          "height": 34
        }
      },
      "cell_type": "code",
      "source": [
        "print(len(target_dataset),target_dataset[0:2])"
      ],
      "execution_count": 0,
      "outputs": [
        {
          "output_type": "stream",
          "text": [
            "25000 [1, 0]\n"
          ],
          "name": "stdout"
        }
      ]
    },
    {
      "metadata": {
        "id": "EOHfG4oMGmAX",
        "colab_type": "code",
        "outputId": "6a64d790-144d-4362-b670-965e6d2e37d3",
        "colab": {
          "base_uri": "https://localhost:8080/",
          "height": 68
        }
      },
      "cell_type": "code",
      "source": [
        "import numpy as np\n",
        "np.random.seed(1)\n",
        "def sigmoid(x):\n",
        "    return 1/(1 + np.exp(-x))\n",
        "alpha, iterations = (0.01, 2)\n",
        "hidden_size = 100\n",
        "weights_0_1 = 0.2*np.random.random((len(vocab),hidden_size)) - 0.1\n",
        "weights_1_2 = 0.2*np.random.random((hidden_size,1)) - 0.1\n",
        "\n",
        "correct,total = (0,0)\n",
        "for iter in range(iterations):\n",
        "    \n",
        "    for i in range(len(input_dataset)-1000):\n",
        "        x,y = (input_dataset[i],target_dataset[i])\n",
        "        layer_1 = sigmoid(np.sum(weights_0_1[x],axis=0))\n",
        "        layer_2 = sigmoid(np.dot(layer_1,weights_1_2))\n",
        "        \n",
        "        layer_2_delta = layer_2 - y\n",
        "        layer_1_delta = layer_2_delta.dot(weights_1_2.T)\n",
        "        \n",
        "        weights_0_1[x] -= layer_1_delta * alpha\n",
        "        weights_1_2 -= np.outer(layer_1,layer_2_delta) * alpha\n",
        "\n",
        "        if(np.abs(layer_2_delta) < 0.5):\n",
        "            correct += 1\n",
        "        total += 1\n",
        "        if(i % 10 == 9):\n",
        "            progress = str(i/float(len(input_dataset)))\n",
        "            sys.stdout.write('\\rIter:'+str(iter)\\\n",
        "                              +' Progress:'+progress[2:4]\\\n",
        "                              +'.'+progress[4:6]\\\n",
        "                              +'% Training Accuracy:'\\\n",
        "                              + str(correct/float(total)) + '%')\n",
        "    print()\n",
        "    \n",
        "    \n",
        "\n",
        "correct,total = (0,0)\n",
        "for i in range(len(input_dataset)-1000,len(input_dataset)):\n",
        "  \n",
        "    x = input_dataset[i]\n",
        "    y = target_dataset[i]\n",
        "\n",
        "    layer_1 = sigmoid(np.sum(weights_0_1[x],axis=0))\n",
        "    layer_2 = sigmoid(np.dot(layer_1,weights_1_2))\n",
        "\n",
        "    if(np.abs(layer_2 - y) < 0.5):\n",
        "        correct += 1\n",
        "    total += 1\n",
        "print(\"Test Accuracy:\" + str(correct / float(total)))\n",
        "\n",
        "       "
      ],
      "execution_count": 20,
      "outputs": [
        {
          "output_type": "stream",
          "text": [
            "Iter:0 Progress:95.99% Training Accuracy:0.8312916666666667%\n",
            "Iter:1 Progress:95.99% Training Accuracy:0.865625%\n",
            "Test Accuracy:0.846\n"
          ],
          "name": "stdout"
        }
      ]
    },
    {
      "metadata": {
        "id": "wp99poM7RSvy",
        "colab_type": "code",
        "colab": {
          "base_uri": "https://localhost:8080/",
          "height": 34
        },
        "outputId": "413ffefa-c1cf-48a6-b288-46c61e1460d2"
      },
      "cell_type": "code",
      "source": [
        "\n",
        "from collections import Counter\n",
        "import math \n",
        "\n",
        "def similar(target='beautiful'):\n",
        "    target_index = word2index[target]\n",
        "    scores = Counter()\n",
        "    for word,index in word2index.items():\n",
        "        raw_difference = weights_0_1[index] - (weights_0_1[target_index])\n",
        "        squared_difference = raw_difference * raw_difference\n",
        "        scores[word] = -math.sqrt(sum(squared_difference))\n",
        "\n",
        "    return scores.most_common(100)\n",
        "\n",
        "print(\"beautiful\",word2index['beautiful'])"
      ],
      "execution_count": 31,
      "outputs": [
        {
          "output_type": "stream",
          "text": [
            "beautiful 7306\n"
          ],
          "name": "stdout"
        }
      ]
    },
    {
      "metadata": {
        "id": "dsfoTf--RWwC",
        "colab_type": "code",
        "colab": {
          "base_uri": "https://localhost:8080/",
          "height": 54
        },
        "outputId": "c15f7479-304d-4e6f-8a8d-cc3ff4da04fb"
      },
      "cell_type": "code",
      "source": [
        "print(similar('beautiful'))"
      ],
      "execution_count": 32,
      "outputs": [
        {
          "output_type": "stream",
          "text": [
            "[('beautiful', -0.0), ('steals', -0.712444895381058), ('outstanding', -0.7228375182789654), ('touching', -0.7228499134982306), ('impact', -0.7262514738480319), ('heart', -0.729110280682466), ('liked', -0.7368892254256248), ('friendship', -0.7437019792713794), ('will', -0.746504773680074), ('fun', -0.761538132428488), ('hilarious', -0.762384794339062), ('surprisingly', -0.7629685158180615), ('finest', -0.7631667045548164), ('joan', -0.7643111387510793), ('effective', -0.7650664166273712), ('genre', -0.7685490288344919), ('entertaining', -0.769033454882479), ('subtle', -0.7707830135511047), ('tight', -0.7722575531744053), ('remember', -0.774484272891571), ('different', -0.7766618607593905), ('thank', -0.777231051583139), ('easy', -0.7773736252773664), ('superior', -0.778629744987593), ('favorites', -0.7787002885343809), ('surprised', -0.7790415108474518), ('hooked', -0.7804828088700786), ('simple', -0.7813481347116527), ('true', -0.7814343144962572), ('charlie', -0.7817568659736203), ('brilliant', -0.7838240956931073), ('superbly', -0.7858673287575206), ('powerful', -0.7863057525550153), ('unusual', -0.7903437440634934), ('extraordinary', -0.7910902063089108), ('now', -0.7922763584996265), ('pleasantly', -0.7924417359695978), ('definitely', -0.7940242053671638), ('sent', -0.7952842825247617), ('recommended', -0.7953782949925232), ('knowing', -0.7971907630589894), ('incredible', -0.7979759416420673), ('enjoy', -0.798472535297134), ('realistic', -0.7990067664950649), ('nice', -0.7990633381481539), ('funniest', -0.7991492418896865), ('awesome', -0.800863380763476), ('magic', -0.8009507137660424), ('both', -0.8017354374329521), ('sweet', -0.8028997769333308), ('bit', -0.8055637843338526), ('portrayal', -0.8079653438215842), ('solid', -0.8106457108074814), ('believable', -0.8108587961713648), ('driven', -0.8113958646234282), ('parents', -0.8114711792641327), ('brian', -0.8118360861536534), ('tragic', -0.8119890908291407), ('appropriate', -0.8123285560430725), ('certain', -0.8130675321909708), ('ride', -0.8132828958088422), ('cry', -0.8133926043805189), ('appreciate', -0.8134100828969201), ('negative', -0.8136346379348455), ('ways', -0.8166488871326898), ('appreciated', -0.8167284340929412), ('strong', -0.8177446130705249), ('beautifully', -0.8190927983256426), ('great', -0.8194151344219924), ('moving', -0.8202771531071721), ('check', -0.8205791797672706), ('emotions', -0.8206948708703246), ('victor', -0.8216060213260046), ('spot', -0.8234222774239689), ('refreshing', -0.8235836264400498), ('against', -0.8238276975635328), ('best', -0.8246532815460755), ('intense', -0.8254012250062959), ('paced', -0.8254140194923218), ('masterpiece', -0.8255800017148084), ('enjoyed', -0.8259428143010012), ('delightful', -0.8295900234717567), ('beauty', -0.8297755278687564), ('plenty', -0.8298799613888964), ('performances', -0.8299573698954983), ('england', -0.8305308990833786), ('moved', -0.8305979176992121), ('jack', -0.8313046283878963), ('compelling', -0.831368812506787), ('deserves', -0.8320115750479169), ('fascinating', -0.8330410757504632), ('manages', -0.8340751822690585), ('highly', -0.8353821572655116), ('worth', -0.8359198217473819), ('unexpected', -0.8360665227474792), ('change', -0.8379208634879857), ('brilliantly', -0.8379959362346742), ('soundtrack', -0.8384225991991963), ('themes', -0.8389647275359834), ('shocked', -0.8401200647540105)]\n"
          ],
          "name": "stdout"
        }
      ]
    },
    {
      "metadata": {
        "id": "K-mhRQEvRqMC",
        "colab_type": "code",
        "colab": {
          "base_uri": "https://localhost:8080/",
          "height": 54
        },
        "outputId": "6f9fd9ec-2411-45b8-f63a-6c1642cf8c11"
      },
      "cell_type": "code",
      "source": [
        "print(similar('terrible'))"
      ],
      "execution_count": 33,
      "outputs": [
        {
          "output_type": "stream",
          "text": [
            "[('terrible', -0.0), ('fails', -0.7241382840924647), ('worse', -0.7450760109639525), ('annoying', -0.7497968840051117), ('dull', -0.773634748997314), ('badly', -0.7801180652553023), ('poor', -0.7932070015624804), ('avoid', -0.8045140718423265), ('save', -0.8047983596970169), ('lacks', -0.8058310063766573), ('disappointment', -0.8195627162833875), ('bad', -0.8195731797244422), ('mess', -0.8271075180089617), ('wooden', -0.837303652287524), ('supposed', -0.8518478247786274), ('ridiculous', -0.8597581909122247), ('wasted', -0.8631804466293277), ('boring', -0.869622899568372), ('horrible', -0.8770076920756217), ('laughable', -0.8773361067977283), ('basically', -0.8929949680879719), ('redeeming', -0.8935991283513064), ('disappointed', -0.9146252854740384), ('disappointing', -0.9173211084949977), ('pointless', -0.9176431208592295), ('unfortunately', -0.9178218910196023), ('unless', -0.9232065966975099), ('lame', -0.9280689560544291), ('oh', -0.9317055500201129), ('stupid', -0.943236084091082), ('pathetic', -0.9503240150501617), ('forgettable', -0.9512469368594064), ('effort', -0.9603475893467487), ('predictable', -0.9668873959829288), ('skip', -0.9794483249913518), ('cheap', -0.9833330357737772), ('nothing', -0.9956079300140738), ('mediocre', -0.9980503569566063), ('wonder', -1.012596732723008), ('poorly', -1.0232988636391502), ('garbage', -1.0392066409433913), ('crap', -1.0401689889904049), ('hoping', -1.0506422982396904), ('script', -1.0526434989873954), ('looks', -1.0617587999116085), ('obnoxious', -1.0731204825180785), ('silly', -1.0736928484813508), ('insult', -1.0749448128626067), ('minutes', -1.0796169758984064), ('failed', -1.0817250128618334), ('miscast', -1.091666430523692), ('ugly', -1.0918748453576697), ('mildly', -1.1009621082464618), ('unfunny', -1.1060156876445966), ('couldn', -1.1088796163009738), ('lousy', -1.1133650560690846), ('slow', -1.1148571476584153), ('painful', -1.115885709598364), ('ludicrous', -1.1280903053001088), ('dreadful', -1.1386255711380988), ('bland', -1.143694169401774), ('weak', -1.1448587059010595), ('neither', -1.145468235031243), ('sadly', -1.1464579344856745), ('accent', -1.1516315992520425), ('supposedly', -1.157716130398514), ('embarrassing', -1.1672113721244648), ('incoherent', -1.168946646838015), ('positive', -1.1712509567440645), ('endless', -1.1717196958659752), ('turkey', -1.1732337988831405), ('victims', -1.173545883171082), ('uninteresting', -1.1751916534958926), ('attempt', -1.1760636206204969), ('tedious', -1.1761096156154303), ('confusing', -1.1788387841742214), ('reason', -1.181904665130601), ('awful', -1.186387300709272), ('obvious', -1.1868825296117005), ('unwatchable', -1.1971618093232899), ('okay', -1.1983314248263746), ('pass', -1.2007914998919489), ('interest', -1.2013406300536427), ('talents', -1.213847901628752), ('scott', -1.2170817675259062), ('nowhere', -1.2180725761138134), ('alright', -1.219739417021904), ('unrealistic', -1.2214064786008798), ('guess', -1.2216232615378753), ('walked', -1.2218399904206527), ('bizarre', -1.2220905657135877), ('paid', -1.2226227070326336), ('none', -1.2229483326638741), ('wasn', -1.2230129716150149), ('premise', -1.2236103717252838), ('christmas', -1.2239893597303837), ('seconds', -1.224048047500012), ('unconvincing', -1.224241820969355), ('sucks', -1.2251801295678415), ('embarrassed', -1.2263168108130267)]\n"
          ],
          "name": "stdout"
        }
      ]
    }
  ]
}
