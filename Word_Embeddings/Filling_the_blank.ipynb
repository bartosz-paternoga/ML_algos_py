{
  "nbformat": 4,
  "nbformat_minor": 0,
  "metadata": {
    "colab": {
      "name": "Copy of Untitled10.ipynb",
      "version": "0.3.2",
      "provenance": [],
      "collapsed_sections": []
    },
    "kernelspec": {
      "name": "python3",
      "display_name": "Python 3"
    },
    "accelerator": "TPU"
  },
  "cells": [
    {
      "metadata": {
        "id": "lZG1pfRsJraI",
        "colab_type": "code",
        "colab": {
          "base_uri": "https://localhost:8080/",
          "height": 122
        },
        "outputId": "5bcf1c2b-01e1-4a09-c05c-b675f12af391"
      },
      "cell_type": "code",
      "source": [
        "from google.colab import drive\n",
        "drive.mount('/content/gdrive')"
      ],
      "execution_count": 1,
      "outputs": [
        {
          "output_type": "stream",
          "text": [
            "Go to this URL in a browser: https://accounts.google.com/o/oauth2/auth?client_id=947318989803-6bn6qk8qdgf4n4g3pfee6491hc0brc4i.apps.googleusercontent.com&redirect_uri=urn%3Aietf%3Awg%3Aoauth%3A2.0%3Aoob&scope=email%20https%3A%2F%2Fwww.googleapis.com%2Fauth%2Fdocs.test%20https%3A%2F%2Fwww.googleapis.com%2Fauth%2Fdrive%20https%3A%2F%2Fwww.googleapis.com%2Fauth%2Fdrive.photos.readonly%20https%3A%2F%2Fwww.googleapis.com%2Fauth%2Fpeopleapi.readonly&response_type=code\n",
            "\n",
            "Enter your authorization code:\n",
            "··········\n",
            "Mounted at /content/gdrive\n"
          ],
          "name": "stdout"
        }
      ]
    },
    {
      "metadata": {
        "id": "Kuqo4AyRQ68p",
        "colab_type": "code",
        "colab": {}
      },
      "cell_type": "code",
      "source": [
        "import sys,random,math\n",
        "from collections import Counter\n",
        "import numpy as np\n",
        "\n",
        "np.random.seed(1)\n",
        "random.seed(1)\n",
        "f = open('gdrive/My Drive/Grokking/reviews.txt')\n",
        "raw_reviews = f.readlines()\n",
        "f.close()\n",
        "\n",
        "tokens = list(map(lambda x:(x.split(\" \")),raw_reviews))\n",
        "wordcnt = Counter()\n",
        "for sent in tokens:\n",
        "    for word in sent:\n",
        "        wordcnt[word] -= 1\n",
        "      \n",
        "vocab = list(set(map(lambda x:x[0],wordcnt.most_common())))\n",
        "\n",
        "\n",
        "word2index = {}\n",
        "for i,word in enumerate(vocab):\n",
        "    word2index[word]=i\n",
        "\n",
        "concatenated = list()\n",
        "input_dataset = list()\n",
        "for sent in tokens:\n",
        "    sent_indices = list()\n",
        "    for word in sent:\n",
        "        try:\n",
        "            sent_indices.append(word2index[word])\n",
        "            concatenated.append(word2index[word])\n",
        "        except:\n",
        "            \"\"\n",
        "    input_dataset.append(sent_indices)\n",
        "concatenated = np.array(concatenated)\n",
        "random.shuffle(input_dataset)\n"
      ],
      "execution_count": 0,
      "outputs": []
    },
    {
      "metadata": {
        "colab_type": "code",
        "outputId": "5f0daa57-0f2d-48c1-e0d1-cf7cc1aac5aa",
        "id": "WAKGk4byIptt",
        "colab": {
          "base_uri": "https://localhost:8080/",
          "height": 34
        }
      },
      "cell_type": "code",
      "source": [
        "print(len(raw_reviews))"
      ],
      "execution_count": 0,
      "outputs": [
        {
          "output_type": "stream",
          "text": [
            "25000\n"
          ],
          "name": "stdout"
        }
      ]
    },
    {
      "metadata": {
        "colab_type": "code",
        "outputId": "3440d83a-ebc2-4bbe-e75f-7c0f3a18f1e3",
        "id": "Gi1yFQAHInTq",
        "colab": {
          "base_uri": "https://localhost:8080/",
          "height": 54
        }
      },
      "cell_type": "code",
      "source": [
        "print(\"tokens len\", len(tokens),tokens[0])"
      ],
      "execution_count": 0,
      "outputs": [
        {
          "output_type": "stream",
          "text": [
            "tokens len 25000 ['bromwell', 'high', 'is', 'a', 'cartoon', 'comedy', '.', 'it', 'ran', 'at', 'the', 'same', 'time', 'as', 'some', 'other', 'programs', 'about', 'school', 'life', '', 'such', 'as', '', 'teachers', '', '.', 'my', '', '', 'years', 'in', 'the', 'teaching', 'profession', 'lead', 'me', 'to', 'believe', 'that', 'bromwell', 'high', '', 's', 'satire', 'is', 'much', 'closer', 'to', 'reality', 'than', 'is', '', 'teachers', '', '.', 'the', 'scramble', 'to', 'survive', 'financially', '', 'the', 'insightful', 'students', 'who', 'can', 'see', 'right', 'through', 'their', 'pathetic', 'teachers', '', 'pomp', '', 'the', 'pettiness', 'of', 'the', 'whole', 'situation', '', 'all', 'remind', 'me', 'of', 'the', 'schools', 'i', 'knew', 'and', 'their', 'students', '.', 'when', 'i', 'saw', 'the', 'episode', 'in', 'which', 'a', 'student', 'repeatedly', 'tried', 'to', 'burn', 'down', 'the', 'school', '', 'i', 'immediately', 'recalled', '.', '.', '.', '.', '.', '.', '.', '.', '.', 'at', '.', '.', '.', '.', '.', '.', '.', '.', '.', '.', 'high', '.', 'a', 'classic', 'line', 'inspector', 'i', '', 'm', 'here', 'to', 'sack', 'one', 'of', 'your', 'teachers', '.', 'student', 'welcome', 'to', 'bromwell', 'high', '.', 'i', 'expect', 'that', 'many', 'adults', 'of', 'my', 'age', 'think', 'that', 'bromwell', 'high', 'is', 'far', 'fetched', '.', 'what', 'a', 'pity', 'that', 'it', 'isn', '', 't', '', '', '\\n']\n"
          ],
          "name": "stdout"
        }
      ]
    },
    {
      "metadata": {
        "id": "xWEyGdHYbeSD",
        "colab_type": "code",
        "outputId": "2606a7ae-4915-4e9f-db79-ad85743b889e",
        "colab": {
          "base_uri": "https://localhost:8080/",
          "height": 51
        }
      },
      "cell_type": "code",
      "source": [
        "print(\"len(vocab)\", len(vocab),\"\\n\",vocab[:10])"
      ],
      "execution_count": 0,
      "outputs": [
        {
          "output_type": "stream",
          "text": [
            "len(vocab) 74075 \n",
            " ['', 'inclusion', 'nosebleeds', 'cavil', 'horrizon', 'ribisi', 'socialized', 'fia', 'hefty', 'tax']\n"
          ],
          "name": "stdout"
        }
      ]
    },
    {
      "metadata": {
        "id": "bv3KguFBc76h",
        "colab_type": "code",
        "colab": {}
      },
      "cell_type": "code",
      "source": [
        "#print(word2index)"
      ],
      "execution_count": 0,
      "outputs": []
    },
    {
      "metadata": {
        "id": "5Bx9uUdQlFs3",
        "colab_type": "code",
        "outputId": "f826a1ef-b87a-4c90-9ff6-bcdc97475540",
        "colab": {
          "base_uri": "https://localhost:8080/",
          "height": 54
        }
      },
      "cell_type": "code",
      "source": [
        "print(len(input_dataset),input_dataset[0:2])"
      ],
      "execution_count": 0,
      "outputs": [
        {
          "output_type": "stream",
          "text": [
            "25000 [[0, 0, 18279, 34940, 0, 51183, 73612, 22934, 54516, 13100, 73486, 39097, 15345, 0, 37918, 39097, 19019, 30727, 15137, 72817, 0, 70594, 47141, 39097, 22186, 42934, 57381, 8496, 50239, 45935, 7787, 70594, 25766, 23626, 50239, 31118, 73612, 54476, 24975, 32528, 39107, 59293, 60564, 0, 30803, 53723, 57381, 22934, 51183, 7016, 49794, 73612, 46940, 56160, 0, 66565, 57381, 28674, 51183, 58776, 47966, 28357, 58776, 57381, 23164, 50239, 37263, 49794, 57381, 14562, 42934, 41029, 45935, 1455, 32648, 49794, 25766, 24677, 0, 8598, 27014, 42934, 30727, 57381, 33686, 50239, 39318, 62476, 0, 0, 73612, 13138, 39720, 0, 0, 16533, 50239, 25766, 24677, 0, 8598, 36530, 0, 70594, 25766, 53103, 0, 45935, 30342, 1055, 47524, 25766, 23626, 73612, 63152, 42934, 0, 18233, 0, 0, 0, 18233, 0, 0, 1869, 58776, 49794, 30143, 5685, 1055, 69356, 45420, 0, 54496, 58209, 36998, 68446, 50717, 57381, 68199, 42934, 17422, 11072, 73970, 34319, 20051, 16426, 57381, 37263, 67385, 0, 66565, 24594, 33739, 57381, 65325, 45398, 50239, 35510, 44287, 49813, 73612, 24114, 50239, 29550, 42934, 30727, 52403, 412, 70594, 4842, 63334, 0, 41858, 53118, 45477, 60864, 73255, 13250, 17629, 49794, 57381, 51958, 42934, 57381, 27165, 39379, 50239, 57381, 35510, 70594, 57381, 8510, 28908, 36547, 73612, 45766, 44701, 50239, 57381, 14376, 57381, 35510, 54574, 49794, 33188, 20215, 42934, 0, 18233, 0, 0, 0, 18233, 0, 0, 13817, 57381, 14562, 45655, 0, 8598, 5599, 28369, 58209, 57381, 45389, 50239, 45935, 70594, 25766, 52797, 0, 8598, 54476, 43007, 42934, 43709, 57381, 7403, 68489, 50239, 34940, 0, 73427, 58209, 43732, 9041, 73612, 1167, 70594, 72056, 16426, 57381, 34308, 42934, 42934, 42934, 70594, 323, 7983, 65767, 57381, 51911, 53723, 45935, 58486, 22560, 22851, 57381, 60564, 63151, 42934, 0, 18233, 0, 0, 0, 18233, 0, 0, 1869, 30751, 31567, 57381, 22934, 32528, 9743, 51183, 57381, 9671, 6664, 57381, 69828, 42934, 45935, 0, 8598, 24677, 51183, 73612, 47507, 71293, 29489, 42934, 42934, 42934, 41029, 69884, 8395, 73612, 38589, 66971, 58776, 69044, 42934, 24594, 47169, 54516, 69884, 56253, 18782, 25766, 15309, 0, 59075, 33188, 36998, 41352, 42934, 57381, 18782, 70594, 13881, 50239, 39318, 62476, 51183, 1670, 58776, 69044, 42934, 37036, 50239, 20245, 0, 57381, 22934, 51183, 69160, 42934, 37708, 59182, 0, 72733, 9022, 28269, 622, 49794, 73612, 68134, 34575, 42934, 37708, 10899, 59293, 11908, 0, 53175, 11908, 622, 42934, 37708, 14230, 6888, 50441, 50239, 63152, 0, 2580, 51183, 17599, 49794, 73612, 22934, 69304, 17539, 42934, 0, 18233, 0, 0, 0, 18233, 0, 0, 17539, 22934, 7983, 5673, 69879, 73612, 9525, 20215, 42934, 59293, 60564, 0, 26828, 23190, 62423, 54516, 57381, 22934, 36458, 52821, 31237, 30727, 45935, 0, 8598, 69356, 42934, 26828, 6873, 0, 72733, 48754, 37708, 1055, 61829, 42934, 49923, 26828, 36067, 42934, 42934, 42934, 54516, 0, 8598, 30751, 73612, 58351, 22934, 56253, 1055, 73612, 24026, 42934, 11225, 37708, 8395, 63909, 41322, 23901, 0, 11908, 52187, 0, 72733, 48754, 37708, 1055, 61829, 42934, 70594, 0, 18279, 34940, 0, 68004, 26968, 54516, 42934, 0, 34482], [17539, 65391, 36630, 37086, 37708, 1055, 25226, 49794, 25221, 39574, 0, 32528, 53723, 37708, 36127, 37473, 38366, 25713, 26828, 23190, 36890, 50239, 57381, 60564, 1055, 67538, 37708, 42934, 22851, 67048, 0, 26828, 38157, 17403, 1055, 57381, 25344, 70594, 51111, 38366, 17539, 36890, 42934, 0, 18233, 0, 0, 0, 18233, 0, 0, 59075, 57381, 54771, 18530, 622, 50239, 37101, 57381, 65391, 23190, 35784, 3320, 42934, 26828, 7983, 47169, 66105, 33016, 37708, 8690, 15165, 1055, 43710, 42934, 0, 18233, 0, 0, 0, 18233, 0, 0, 26828, 67926, 71514, 54516, 30727, 43126, 0, 17552, 0, 70594, 71508, 37708, 56477, 52498, 42126, 55623, 42934, 20245, 52498, 63909, 33063, 20215, 49794, 57381, 13493, 42934, 0, 18233, 0, 0, 0, 18233, 0, 0, 57381, 65391, 23190, 35690, 51884, 70594, 36630, 56906, 17213, 49794, 42934, 26828, 21948, 1055, 34973, 1124, 18778, 22851, 57381, 69828, 70594, 67926, 1055, 63385, 57381, 35123, 1055, 15229, 0, 3573, 26968, 1055, 44717, 1055, 57381, 61829, 42934, 0, 18233, 0, 0, 0, 18233, 0, 0, 26828, 2512, 52821, 68276, 17539, 22934, 61957, 11225, 11908, 58209, 31030, 50239, 3270, 37708, 22851, 25452, 22851, 0, 56224, 24269, 0, 59896, 42934, 37708, 52187, 0, 72733, 4121, 61957, 54516, 42934, 0, 34482]]\n"
          ],
          "name": "stdout"
        }
      ]
    },
    {
      "metadata": {
        "id": "soNvF_FOToSX",
        "colab_type": "code",
        "outputId": "2e5ac4e7-68ac-4f68-d12d-96e3640f2555",
        "colab": {
          "base_uri": "https://localhost:8080/",
          "height": 54
        }
      },
      "cell_type": "code",
      "source": [
        "alpha, iterations = (0.05, 2)\n",
        "hidden_size,window,negative = (50,2,5)\n",
        "\n",
        "weights_0_1 = (np.random.rand(len(vocab),hidden_size) - 0.5) * 0.2  #shape: (74075, 50)\n",
        "weights_1_2 = np.random.rand(len(vocab),hidden_size)*0              #shape: (74075, 50)\n",
        "\n",
        "layer_2_target = np.zeros(negative+1)\n",
        "layer_2_target[0] = 1\n",
        "\n",
        "def similar(target='beautiful'):\n",
        "  target_index = word2index[target]\n",
        "\n",
        "  scores = Counter()\n",
        "  for word,index in word2index.items():\n",
        "    raw_difference = weights_0_1[index] - (weights_0_1[target_index])\n",
        "    squared_difference = raw_difference * raw_difference\n",
        "    scores[word] = -math.sqrt(sum(squared_difference))\n",
        "  return scores.most_common(10)\n",
        "\n",
        "def sigmoid(x):\n",
        "    return 1/(1 + np.exp(-x))\n",
        "\n",
        "for rev_i,review in enumerate(input_dataset * iterations):\n",
        "  for target_i in range(len(review)):\n",
        "    # since it's really expensive to predict every vocabulary\n",
        "    # we're only going to predict a random subset\n",
        "    target_samples = [review[target_i]]+list(concatenated\\\n",
        "    [(np.random.rand(negative)*len(concatenated)).astype('int').tolist()])   \n",
        "\n",
        "    left_context = review[max(0,target_i-window):target_i]\n",
        "    right_context = review[target_i+1:min(len(review),target_i+window)]\n",
        "    \n",
        "    layer_1 = np.mean(weights_0_1[left_context+right_context],axis=0)\n",
        "    layer_2 = sigmoid(layer_1.dot(weights_1_2[target_samples].T))\n",
        "    layer_2_delta = layer_2 - layer_2_target\n",
        "    layer_1_delta = layer_2_delta.dot(weights_1_2[target_samples])       #layer_1_delta.shape (50,)\n",
        "    \n",
        "    weights_0_1[left_context+right_context] -= layer_1_delta * alpha     #shape: (3, 50)\n",
        "    weights_1_2[target_samples] -= np.outer(layer_2_delta,layer_1)*alpha #shape: (6, 50)\n",
        "\n",
        "  if(rev_i % 250 == 0):\n",
        "    sys.stdout.write('\\rProgress:'+str(rev_i/float(len(input_dataset)\n",
        "        *iterations)) + \"   \" + str(similar('terrible')))\n",
        "  sys.stdout.write('\\rProgress:'+str(rev_i/float(len(input_dataset)\n",
        "        *iterations)))\n",
        "print(similar('terrible'))"
      ],
      "execution_count": 7,
      "outputs": [
        {
          "output_type": "stream",
          "text": [
            "Progress:0.99998[('terrible', -0.0), ('horrible', -2.9619505315492067), ('brilliant', -3.448479630886247), ('mediocre', -3.7561402059622595), ('superb', -3.764602798538214), ('phenomenal', -3.8376770826096203), ('pathetic', -3.8474707652398283), ('great', -3.8954507232213773), ('dreadful', -4.062210317422653), ('remarkable', -4.0783091929144994)]\n"
          ],
          "name": "stdout"
        }
      ]
    }
  ]
}