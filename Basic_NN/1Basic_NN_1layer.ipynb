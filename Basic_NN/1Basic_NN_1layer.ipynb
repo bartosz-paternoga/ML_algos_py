{
  "nbformat": 4,
  "nbformat_minor": 0,
  "metadata": {
    "colab": {
      "name": "Untitled3.ipynb",
      "version": "0.3.2",
      "provenance": [],
      "collapsed_sections": []
    },
    "kernelspec": {
      "name": "python3",
      "display_name": "Python 3"
    }
  },
  "cells": [
    {
      "metadata": {
        "id": "nr-6xCbm4xWu",
        "colab_type": "code",
        "colab": {}
      },
      "cell_type": "code",
      "source": [
        "import numpy as np"
      ],
      "execution_count": 0,
      "outputs": []
    },
    {
      "metadata": {
        "id": "h19Yh73hfPJq",
        "colab_type": "code",
        "colab": {}
      },
      "cell_type": "code",
      "source": [
        "# sigmoid function\n",
        "def nonlin(x,deriv=False):\n",
        "    if(deriv==True):\n",
        "        return x*(1-x)\n",
        "    return 1/(1+np.exp(-x))"
      ],
      "execution_count": 0,
      "outputs": []
    },
    {
      "metadata": {
        "id": "kWNnhyypfQCZ",
        "colab_type": "code",
        "colab": {}
      },
      "cell_type": "code",
      "source": [
        "# input dataset\n",
        "X = np.array([  [0,0,1],\n",
        "                [0,1,1],\n",
        "                [1,0,1],\n",
        "                [1,1,1] ])\n"
      ],
      "execution_count": 0,
      "outputs": []
    },
    {
      "metadata": {
        "id": "9pZv921qfQXB",
        "colab_type": "code",
        "colab": {
          "base_uri": "https://localhost:8080/",
          "height": 84
        },
        "outputId": "9b38da9a-c683-442d-caae-dd4cdaa525c9"
      },
      "cell_type": "code",
      "source": [
        "#output dataset            \n",
        "y = np.array([[0,0,1,1]]).T\n",
        "print(y)"
      ],
      "execution_count": 65,
      "outputs": [
        {
          "output_type": "stream",
          "text": [
            "[[0]\n",
            " [0]\n",
            " [1]\n",
            " [1]]\n"
          ],
          "name": "stdout"
        }
      ]
    },
    {
      "metadata": {
        "id": "h5mbJAqMfQ0J",
        "colab_type": "code",
        "colab": {}
      },
      "cell_type": "code",
      "source": [
        "# seed random numbers to make calculation\n",
        "# deterministic (just a good practice)\n",
        "np.random.seed(1)"
      ],
      "execution_count": 0,
      "outputs": []
    },
    {
      "metadata": {
        "id": "UwVdJMZefRD5",
        "colab_type": "code",
        "outputId": "f162c344-baac-492f-efd1-9edae2185299",
        "colab": {
          "base_uri": "https://localhost:8080/",
          "height": 84
        }
      },
      "cell_type": "code",
      "source": [
        "# initialize weights randomly with mean 0\n",
        "w = 2*np.random.random((3,1)) - 1\n",
        "print (\"initialized weights -> syn0:\")\n",
        "print (w)"
      ],
      "execution_count": 67,
      "outputs": [
        {
          "output_type": "stream",
          "text": [
            "initialized weights -> syn0:\n",
            "[[-0.16595599]\n",
            " [ 0.44064899]\n",
            " [-0.99977125]]\n"
          ],
          "name": "stdout"
        }
      ]
    },
    {
      "metadata": {
        "id": "-H9yMVA3fRSJ",
        "colab_type": "code",
        "colab": {
          "base_uri": "https://localhost:8080/",
          "height": 2386
        },
        "outputId": "c8c1d4bb-ede0-4dd1-ac2e-8b71dd830e33"
      },
      "cell_type": "code",
      "source": [
        "for iter in range(3):\n",
        "    \n",
        "    print(\"ITER:\", iter)  \n",
        "    \n",
        "    # forward propagation\n",
        "    dotProd = np.dot(l0,w)\n",
        "    l0 = X\n",
        "    l1 = nonlin(np.dot(l0,w))\n",
        "    print(\"l0\") \n",
        "    print(l0) \n",
        "    print(\"np.dot(l0,w)\") \n",
        "    print(dotProd) \n",
        "    print(\"l1\") \n",
        "    print(l1) \n",
        "\n",
        "    # how much did we miss?\n",
        "    l1_error = y - l1\n",
        "    print(\"l1_error\") \n",
        "    print(l1_error) \n",
        "    \n",
        "    # multiply how much we missed by the \n",
        "    # slope of the sigmoid at the values in l1\n",
        "    deriv = nonlin(l1,True)\n",
        "    l1_delta = l1_error * nonlin(l1,True)\n",
        "    print(\"deriv\") \n",
        "    print(deriv) \n",
        "    print(\"l1_delta\") \n",
        "    print(l1_delta) \n",
        "    \n",
        "    \n",
        "    # update weights\n",
        "    w += np.dot(l0.T,l1_delta)\n",
        "    print(\"l0.T\") \n",
        "    print(l0.T) \n",
        "    print (\"Output after single iteration:\")\n",
        "    print (l1)\n",
        "    print (\"Weigths after single iteration:\")\n",
        "    print (w)\n",
        "\n",
        "\n",
        "print (\"Output After Training:\")\n",
        "print (l1)\n",
        "\n",
        "print (\"final weigths -> syn0:\")\n",
        "print (w)"
      ],
      "execution_count": 68,
      "outputs": [
        {
          "output_type": "stream",
          "text": [
            "ITER: 0\n",
            "l0\n",
            "[[0 0 1]\n",
            " [0 1 1]\n",
            " [1 0 1]\n",
            " [1 1 1]]\n",
            "np.dot(l0,w)\n",
            "[[-0.99977125]\n",
            " [-0.55912226]\n",
            " [-1.16572724]\n",
            " [-0.72507825]]\n",
            "l1\n",
            "[[0.2689864 ]\n",
            " [0.36375058]\n",
            " [0.23762817]\n",
            " [0.3262757 ]]\n",
            "l1_error\n",
            "[[-0.2689864 ]\n",
            " [-0.36375058]\n",
            " [ 0.76237183]\n",
            " [ 0.6737243 ]]\n",
            "deriv\n",
            "[[0.19663272]\n",
            " [0.23143609]\n",
            " [0.18116102]\n",
            " [0.21981987]]\n",
            "l1_delta\n",
            "[[-0.05289153]\n",
            " [-0.08418501]\n",
            " [ 0.13811206]\n",
            " [ 0.14809799]]\n",
            "l0.T\n",
            "[[0 0 1 1]\n",
            " [0 1 0 1]\n",
            " [1 1 1 1]]\n",
            "Output after single iteration:\n",
            "[[0.2689864 ]\n",
            " [0.36375058]\n",
            " [0.23762817]\n",
            " [0.3262757 ]]\n",
            "Weigths after single iteration:\n",
            "[[ 0.12025406]\n",
            " [ 0.50456196]\n",
            " [-0.85063774]]\n",
            "ITER: 1\n",
            "l0\n",
            "[[0 0 1]\n",
            " [0 1 1]\n",
            " [1 0 1]\n",
            " [1 1 1]]\n",
            "np.dot(l0,w)\n",
            "[[-0.85063774]\n",
            " [-0.34607578]\n",
            " [-0.73038368]\n",
            " [-0.22582172]]\n",
            "l1\n",
            "[[0.29929909]\n",
            " [0.41433436]\n",
            " [0.32511054]\n",
            " [0.44378327]]\n",
            "l1_error\n",
            "[[-0.29929909]\n",
            " [-0.41433436]\n",
            " [ 0.67488946]\n",
            " [ 0.55621673]]\n",
            "deriv\n",
            "[[0.20971915]\n",
            " [0.2426614 ]\n",
            " [0.21941368]\n",
            " [0.24683968]]\n",
            "l1_delta\n",
            "[[-0.06276875]\n",
            " [-0.10054295]\n",
            " [ 0.14807998]\n",
            " [ 0.13729636]]\n",
            "l0.T\n",
            "[[0 0 1 1]\n",
            " [0 1 0 1]\n",
            " [1 1 1 1]]\n",
            "Output after single iteration:\n",
            "[[0.29929909]\n",
            " [0.41433436]\n",
            " [0.32511054]\n",
            " [0.44378327]]\n",
            "Weigths after single iteration:\n",
            "[[ 0.40563039]\n",
            " [ 0.54131537]\n",
            " [-0.72857311]]\n",
            "ITER: 2\n",
            "l0\n",
            "[[0 0 1]\n",
            " [0 1 1]\n",
            " [1 0 1]\n",
            " [1 1 1]]\n",
            "np.dot(l0,w)\n",
            "[[-0.72857311]\n",
            " [-0.18725774]\n",
            " [-0.32294271]\n",
            " [ 0.21837265]]\n",
            "l1\n",
            "[[0.32550793]\n",
            " [0.45332188]\n",
            " [0.41995875]\n",
            " [0.55437725]]\n",
            "l1_error\n",
            "[[-0.32550793]\n",
            " [-0.45332188]\n",
            " [ 0.58004125]\n",
            " [ 0.44562275]]\n",
            "deriv\n",
            "[[0.21955252]\n",
            " [0.24782115]\n",
            " [0.2435934 ]\n",
            " [0.24704312]]\n",
            "l1_delta\n",
            "[[-0.07146608]\n",
            " [-0.11234275]\n",
            " [ 0.14129422]\n",
            " [ 0.11008803]]\n",
            "l0.T\n",
            "[[0 0 1 1]\n",
            " [0 1 0 1]\n",
            " [1 1 1 1]]\n",
            "Output after single iteration:\n",
            "[[0.32550793]\n",
            " [0.45332188]\n",
            " [0.41995875]\n",
            " [0.55437725]]\n",
            "Weigths after single iteration:\n",
            "[[ 0.65701265]\n",
            " [ 0.53906065]\n",
            " [-0.66099969]]\n",
            "Output After Training:\n",
            "[[0.32550793]\n",
            " [0.45332188]\n",
            " [0.41995875]\n",
            " [0.55437725]]\n",
            "final weigths -> syn0:\n",
            "[[ 0.65701265]\n",
            " [ 0.53906065]\n",
            " [-0.66099969]]\n"
          ],
          "name": "stdout"
        }
      ]
    }
  ]
}
